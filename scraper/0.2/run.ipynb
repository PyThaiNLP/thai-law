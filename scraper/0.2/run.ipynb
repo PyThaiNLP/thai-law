{
 "cells": [
  {
   "cell_type": "code",
   "execution_count": 1,
   "metadata": {},
   "outputs": [],
   "source": [
    "import warnings\n",
    "warnings.filterwarnings(\"ignore\")"
   ]
  },
  {
   "cell_type": "code",
   "execution_count": 2,
   "metadata": {},
   "outputs": [
    {
     "data": {
      "text/plain": [
       "[3, 4, 5, 6, 7, 8]"
      ]
     },
     "execution_count": 2,
     "metadata": {},
     "output_type": "execute_result"
    }
   ],
   "source": [
    "[1,2,3,4,5,6,7,8][2:]"
   ]
  },
  {
   "cell_type": "code",
   "execution_count": 3,
   "metadata": {},
   "outputs": [],
   "source": [
    "import requests\n",
    "from bs4 import BeautifulSoup\n",
    "from pythainlp import thai_consonants"
   ]
  },
  {
   "cell_type": "code",
   "execution_count": 4,
   "metadata": {},
   "outputs": [],
   "source": [
    "headers = {\"User-Agent\":\"Mozilla/5.0 (Macintosh; Intel Mac OS X 10_15_4) AppleWebKit/537.36 (KHTML, like Gecko) Chrome/83.0.4103.97 Safari/537.36\"}"
   ]
  },
  {
   "cell_type": "code",
   "execution_count": null,
   "metadata": {},
   "outputs": [],
   "source": [
    "# table law\n",
    "# sysid auto increment\n",
    "# title text\n",
    "# txt longtext"
   ]
  },
  {
   "cell_type": "code",
   "execution_count": 5,
   "metadata": {},
   "outputs": [],
   "source": [
    "import mysql.connector\n",
    "\n",
    "cnx = mysql.connector.connect(user='', password='',host='127.0.0.1',database='law3') # user password"
   ]
  },
  {
   "cell_type": "code",
   "execution_count": 6,
   "metadata": {},
   "outputs": [],
   "source": [
    "def add_data(sysid,title,txt):\n",
    "    cnx2 = mysql.connector.connect(user='root', password='',host='127.0.0.1',database='law3')\n",
    "    add_db = \"insert into law(sysid,title,txt) values(%s,%s,%s);\"\n",
    "    cursor = cnx2.cursor()\n",
    "    cursor.execute(add_db,(str(sysid),str(title),str(txt)))\n",
    "    cnx2.commit()\n",
    "    cnx2.close()"
   ]
  },
  {
   "cell_type": "code",
   "execution_count": 7,
   "metadata": {},
   "outputs": [],
   "source": [
    "def check_db(sysid):\n",
    "    cnx3 = mysql.connector.connect(user='root', password='',host='127.0.0.1',database='law3')\n",
    "    cursor = cnx3.cursor()\n",
    "    sql = ('select sysid from law where sysid=%s;')\n",
    "    #print(sql)\n",
    "    cursor.execute(sql,[str(sysid)])\n",
    "    check = cursor.fetchall() != []\n",
    "    cnx3.close()\n",
    "    return check"
   ]
  },
  {
   "cell_type": "code",
   "execution_count": 8,
   "metadata": {},
   "outputs": [],
   "source": [
    "def geturl(c):\n",
    "    return 'https://www.krisdika.go.th/web/guest/law?p_p_id=LawPortlet_INSTANCE_aAN7C2U5hENi&p_p_lifecycle=2&p_p_state=normal&p_p_mode=view&p_p_cacheability=cacheLevelPage&_LawPortlet_INSTANCE_aAN7C2U5hENi_lawShowType=showAll&p_p_lifecycle=1&_LawPortlet_INSTANCE_aAN7C2U5hENi_javax.portlet.action=selectLawShowType&_LawPortlet_INSTANCE_aAN7C2U5hENi_character={c}&_LawPortlet_INSTANCE_aAN7C2U5hENi_groupOfAct=byCharacter&_LawPortlet_INSTANCE_aAN7C2U5hENi_groupThcaId=0&_LawPortlet_INSTANCE_aAN7C2U5hENi_lawTypeId=2'.format(c=c)\n",
    "    #return \"https://www.krisdika.go.th/web/guest/law?p_p_id=LawPortlet_INSTANCE_aAN7C2U5hENi&p_p_lifecycle=2&p_p_state=normal&p_p_mode=view&p_p_cacheability=cacheLevelPage&_LawPortlet_INSTANCE_aAN7C2U5hENi_lawShowType=showAll&p_p_lifecycle=1&_LawPortlet_INSTANCE_aAN7C2U5hENi_javax.portlet.action=selectLawShowType&_LawPortlet_INSTANCE_aAN7C2U5hENi_character={c}&_LawPortlet_INSTANCE_aAN7C2U5hENi_groupOfAct=byCharacter&_LawPortlet_INSTANCE_aAN7C2U5hENi_groupThcaId=0&_LawPortlet_INSTANCE_aAN7C2U5hENi_lawTypeId=2\""
   ]
  },
  {
   "cell_type": "code",
   "execution_count": 9,
   "metadata": {},
   "outputs": [],
   "source": [
    "def get_json(c):\n",
    "    u = geturl(c)\n",
    "    r = requests.get(u, verify=False,headers=headers)\n",
    "    return r.json()"
   ]
  },
  {
   "cell_type": "code",
   "execution_count": 10,
   "metadata": {},
   "outputs": [],
   "source": [
    "def get_sysid(v):\n",
    "    if \"&ext=htm\" not in v:\n",
    "        return None\n",
    "    return v.split('&ext=htm')[0].split('https://www.krisdika.go.th/librarian/get?sysid=')[1]"
   ]
  },
  {
   "cell_type": "code",
   "execution_count": 11,
   "metadata": {},
   "outputs": [],
   "source": [
    "def gethtml(sysid):\n",
    "    return \"https://www.krisdika.go.th/librarian/getfile?sysid={sysid}&ext=htm\".format(sysid=sysid)"
   ]
  },
  {
   "cell_type": "code",
   "execution_count": 12,
   "metadata": {},
   "outputs": [],
   "source": [
    "def get_data(sysid):\n",
    "    r2 = requests.get(gethtml(sysid), verify=False,headers=headers)\n",
    "    d = r2.content.decode(\"TIS-620\")\n",
    "    soup = BeautifulSoup(d,'html.parser')\n",
    "    return soup.text"
   ]
  },
  {
   "cell_type": "code",
   "execution_count": 15,
   "metadata": {},
   "outputs": [],
   "source": [
    "#get_json('ง')"
   ]
  },
  {
   "cell_type": "code",
   "execution_count": 16,
   "metadata": {},
   "outputs": [],
   "source": [
    "from tqdm.notebook import trange, tqdm"
   ]
  },
  {
   "cell_type": "code",
   "execution_count": 17,
   "metadata": {},
   "outputs": [],
   "source": [
    "from concurrent.futures import ThreadPoolExecutor"
   ]
  },
  {
   "cell_type": "code",
   "execution_count": 18,
   "metadata": {},
   "outputs": [],
   "source": [
    "executor = ThreadPoolExecutor(max_workers=5)"
   ]
  },
  {
   "cell_type": "code",
   "execution_count": 19,
   "metadata": {},
   "outputs": [],
   "source": [
    "def savetodb(o):\n",
    "    try:\n",
    "        sysid = get_sysid(o['value'])\n",
    "        if check_db(sysid):\n",
    "            pass\n",
    "        else:\n",
    "            txt = get_data(sysid)\n",
    "            title = BeautifulSoup(o['value'],'html.parser').text\n",
    "            add_data(sysid,title,txt)\n",
    "    except:\n",
    "        pass"
   ]
  },
  {
   "cell_type": "code",
   "execution_count": 20,
   "metadata": {},
   "outputs": [],
   "source": [
    "num=0\n",
    "def save(c):\n",
    "    j = get_json(c)\n",
    "    if j == {'rows': []}:\n",
    "        pass\n",
    "    for item in j['rows']:\n",
    "        if  item == {'rows': []}:\n",
    "            continue\n",
    "        for i in item['rows']:\n",
    "            if  i== {'rows': []}:\n",
    "                continue\n",
    "            #print(i)\n",
    "            if 'rows' not in i.keys() and 'data' in i.keys():\n",
    "                for o in i['data']:\n",
    "                    executor.submit(savetodb,o)\n",
    "                continue\n",
    "            for j in i['rows']:\n",
    "                if  j == {'rows': []}:\n",
    "                    continue\n",
    "                for o in j['data']:\n",
    "                    executor.submit(savetodb,o)"
   ]
  },
  {
   "cell_type": "code",
   "execution_count": 24,
   "metadata": {},
   "outputs": [],
   "source": [
    "for i in thai_consonants:\n",
    "    try:\n",
    "        save(i)\n",
    "    except:\n",
    "        pass"
   ]
  },
  {
   "cell_type": "code",
   "execution_count": null,
   "metadata": {},
   "outputs": [],
   "source": [
    "30 # เสร็จ 31 ข้าม"
   ]
  },
  {
   "cell_type": "code",
   "execution_count": 23,
   "metadata": {},
   "outputs": [
    {
     "data": {
      "text/plain": [
       "'ขฃคฅฆงจฉชซฌญฎฏฐฑฒณดตถทธนบปผฝพฟภมยรลวศษสหฬอฮ'"
      ]
     },
     "execution_count": 23,
     "metadata": {},
     "output_type": "execute_result"
    }
   ],
   "source": [
    "thai_consonants[1:]"
   ]
  },
  {
   "cell_type": "code",
   "execution_count": null,
   "metadata": {},
   "outputs": [],
   "source": [
    "thai_consonants[31]"
   ]
  },
  {
   "cell_type": "code",
   "execution_count": null,
   "metadata": {},
   "outputs": [],
   "source": [
    "#save('ข')"
   ]
  },
  {
   "cell_type": "code",
   "execution_count": null,
   "metadata": {},
   "outputs": [],
   "source": [
    "#save('พ')"
   ]
  },
  {
   "cell_type": "code",
   "execution_count": null,
   "metadata": {},
   "outputs": [],
   "source": []
  }
 ],
 "metadata": {
  "kernelspec": {
   "display_name": "Python 3",
   "language": "python",
   "name": "python3"
  },
  "language_info": {
   "codemirror_mode": {
    "name": "ipython",
    "version": 3
   },
   "file_extension": ".py",
   "mimetype": "text/x-python",
   "name": "python",
   "nbconvert_exporter": "python",
   "pygments_lexer": "ipython3",
   "version": "3.8.5"
  }
 },
 "nbformat": 4,
 "nbformat_minor": 4
}
