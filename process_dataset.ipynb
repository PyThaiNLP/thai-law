{
 "cells": [
  {
   "cell_type": "code",
   "execution_count": 259,
   "metadata": {},
   "outputs": [],
   "source": [
    "import numpy as np\n",
    "import pandas as pd\n",
    "from tqdm.auto import tqdm\n",
    "from bs4 import BeautifulSoup\n",
    "from selenium import webdriver\n",
    "from selenium.webdriver.common.by import By\n",
    "from selenium.webdriver.support.ui import WebDriverWait\n",
    "from selenium.webdriver.support import expected_conditions as EC"
   ]
  },
  {
   "cell_type": "code",
   "execution_count": 269,
   "metadata": {},
   "outputs": [
    {
     "data": {
      "text/html": [
       "<div>\n",
       "<style scoped>\n",
       "    .dataframe tbody tr th:only-of-type {\n",
       "        vertical-align: middle;\n",
       "    }\n",
       "\n",
       "    .dataframe tbody tr th {\n",
       "        vertical-align: top;\n",
       "    }\n",
       "\n",
       "    .dataframe thead th {\n",
       "        text-align: right;\n",
       "    }\n",
       "</style>\n",
       "<table border=\"1\" class=\"dataframe\">\n",
       "  <thead>\n",
       "    <tr style=\"text-align: right;\">\n",
       "      <th></th>\n",
       "      <th>law_group</th>\n",
       "      <th>nb_laws</th>\n",
       "      <th>nb_pages</th>\n",
       "    </tr>\n",
       "  </thead>\n",
       "  <tbody>\n",
       "    <tr>\n",
       "      <th>0</th>\n",
       "      <td>กษัตริย์</td>\n",
       "      <td>12</td>\n",
       "      <td>2</td>\n",
       "    </tr>\n",
       "    <tr>\n",
       "      <th>1</th>\n",
       "      <td>การเงิน การคลัง และวิธีการงบประมาณ</td>\n",
       "      <td>146</td>\n",
       "      <td>15</td>\n",
       "    </tr>\n",
       "    <tr>\n",
       "      <th>2</th>\n",
       "      <td>การเมืองการปกครอง</td>\n",
       "      <td>269</td>\n",
       "      <td>27</td>\n",
       "    </tr>\n",
       "    <tr>\n",
       "      <th>3</th>\n",
       "      <td>ขนส่งและคมนาคม</td>\n",
       "      <td>59</td>\n",
       "      <td>6</td>\n",
       "    </tr>\n",
       "    <tr>\n",
       "      <th>4</th>\n",
       "      <td>คณะกรรมการกฤษฏีกา</td>\n",
       "      <td>2</td>\n",
       "      <td>1</td>\n",
       "    </tr>\n",
       "    <tr>\n",
       "      <th>5</th>\n",
       "      <td>คนต่างด้าว</td>\n",
       "      <td>56</td>\n",
       "      <td>6</td>\n",
       "    </tr>\n",
       "    <tr>\n",
       "      <th>6</th>\n",
       "      <td>ครอบครัว และมรดก</td>\n",
       "      <td>69</td>\n",
       "      <td>7</td>\n",
       "    </tr>\n",
       "    <tr>\n",
       "      <th>7</th>\n",
       "      <td>ความมั่นคง และการรักษาความสงบเรียบร้อย</td>\n",
       "      <td>53</td>\n",
       "      <td>6</td>\n",
       "    </tr>\n",
       "    <tr>\n",
       "      <th>8</th>\n",
       "      <td>ความเท่าเทียมระหว่างเพศ</td>\n",
       "      <td>1</td>\n",
       "      <td>1</td>\n",
       "    </tr>\n",
       "    <tr>\n",
       "      <th>9</th>\n",
       "      <td>คุ้มครองผู้บริโภค</td>\n",
       "      <td>56</td>\n",
       "      <td>6</td>\n",
       "    </tr>\n",
       "    <tr>\n",
       "      <th>10</th>\n",
       "      <td>คุ้มครองสัตว์</td>\n",
       "      <td>6</td>\n",
       "      <td>1</td>\n",
       "    </tr>\n",
       "    <tr>\n",
       "      <th>11</th>\n",
       "      <td>จัดซื้อจัดจ้างภาครัฐ</td>\n",
       "      <td>6</td>\n",
       "      <td>1</td>\n",
       "    </tr>\n",
       "    <tr>\n",
       "      <th>12</th>\n",
       "      <td>ทรัพยากรธรรมชาติ พลังงาน และสิ่งแวดล้อม</td>\n",
       "      <td>57</td>\n",
       "      <td>6</td>\n",
       "    </tr>\n",
       "    <tr>\n",
       "      <th>13</th>\n",
       "      <td>ทรัพย์สินทางปัญญา</td>\n",
       "      <td>14</td>\n",
       "      <td>2</td>\n",
       "    </tr>\n",
       "    <tr>\n",
       "      <th>14</th>\n",
       "      <td>ที่ดิน</td>\n",
       "      <td>58</td>\n",
       "      <td>6</td>\n",
       "    </tr>\n",
       "    <tr>\n",
       "      <th>15</th>\n",
       "      <td>ที่อยู่อาศัย และการพัฒนาเมือง</td>\n",
       "      <td>15</td>\n",
       "      <td>2</td>\n",
       "    </tr>\n",
       "    <tr>\n",
       "      <th>16</th>\n",
       "      <td>ทุจริต และประพฤติมิชอบ</td>\n",
       "      <td>12</td>\n",
       "      <td>2</td>\n",
       "    </tr>\n",
       "    <tr>\n",
       "      <th>17</th>\n",
       "      <td>ธง ตราแผ่นดิน และเครื่องหมายราชการ</td>\n",
       "      <td>5</td>\n",
       "      <td>1</td>\n",
       "    </tr>\n",
       "    <tr>\n",
       "      <th>18</th>\n",
       "      <td>ธนาคาร สถาบันการเงิน และตลาดหลักทรัพย์</td>\n",
       "      <td>40</td>\n",
       "      <td>4</td>\n",
       "    </tr>\n",
       "    <tr>\n",
       "      <th>19</th>\n",
       "      <td>ธุรกิจ และพาณิชยกรรม</td>\n",
       "      <td>118</td>\n",
       "      <td>12</td>\n",
       "    </tr>\n",
       "    <tr>\n",
       "      <th>20</th>\n",
       "      <td>พนัน</td>\n",
       "      <td>6</td>\n",
       "      <td>1</td>\n",
       "    </tr>\n",
       "    <tr>\n",
       "      <th>21</th>\n",
       "      <td>ภาษีอากร และค่าธรรมเนียม</td>\n",
       "      <td>225</td>\n",
       "      <td>23</td>\n",
       "    </tr>\n",
       "    <tr>\n",
       "      <th>22</th>\n",
       "      <td>รัฐวิสาหกิจ</td>\n",
       "      <td>36</td>\n",
       "      <td>4</td>\n",
       "    </tr>\n",
       "    <tr>\n",
       "      <th>23</th>\n",
       "      <td>วัฒนธรรม กีฬา และการท่องเที่ยว</td>\n",
       "      <td>71</td>\n",
       "      <td>8</td>\n",
       "    </tr>\n",
       "    <tr>\n",
       "      <th>24</th>\n",
       "      <td>วิชาชีพ</td>\n",
       "      <td>35</td>\n",
       "      <td>4</td>\n",
       "    </tr>\n",
       "    <tr>\n",
       "      <th>25</th>\n",
       "      <td>วิทยาศาสตร์ และเทคโนโลยี</td>\n",
       "      <td>26</td>\n",
       "      <td>3</td>\n",
       "    </tr>\n",
       "    <tr>\n",
       "      <th>26</th>\n",
       "      <td>ศาล และกระบวนการยุติธรรม</td>\n",
       "      <td>118</td>\n",
       "      <td>12</td>\n",
       "    </tr>\n",
       "    <tr>\n",
       "      <th>27</th>\n",
       "      <td>ศาสนา</td>\n",
       "      <td>14</td>\n",
       "      <td>2</td>\n",
       "    </tr>\n",
       "    <tr>\n",
       "      <th>28</th>\n",
       "      <td>ศึกษา</td>\n",
       "      <td>74</td>\n",
       "      <td>8</td>\n",
       "    </tr>\n",
       "    <tr>\n",
       "      <th>29</th>\n",
       "      <td>สนธิสัญญา และความสัมพันธ์ระหว่างประเทศ</td>\n",
       "      <td>66</td>\n",
       "      <td>7</td>\n",
       "    </tr>\n",
       "    <tr>\n",
       "      <th>30</th>\n",
       "      <td>สมาคมและมูลนิธิ</td>\n",
       "      <td>16</td>\n",
       "      <td>2</td>\n",
       "    </tr>\n",
       "    <tr>\n",
       "      <th>31</th>\n",
       "      <td>สวัสดิการสังคม</td>\n",
       "      <td>87</td>\n",
       "      <td>9</td>\n",
       "    </tr>\n",
       "    <tr>\n",
       "      <th>32</th>\n",
       "      <td>สัญชาติ</td>\n",
       "      <td>7</td>\n",
       "      <td>1</td>\n",
       "    </tr>\n",
       "    <tr>\n",
       "      <th>33</th>\n",
       "      <td>สาธารณสุข</td>\n",
       "      <td>82</td>\n",
       "      <td>9</td>\n",
       "    </tr>\n",
       "    <tr>\n",
       "      <th>34</th>\n",
       "      <td>องค์การระหว่างประเทศ</td>\n",
       "      <td>40</td>\n",
       "      <td>4</td>\n",
       "    </tr>\n",
       "    <tr>\n",
       "      <th>35</th>\n",
       "      <td>อาวุธ</td>\n",
       "      <td>27</td>\n",
       "      <td>3</td>\n",
       "    </tr>\n",
       "    <tr>\n",
       "      <th>36</th>\n",
       "      <td>อุตสาหกรรม</td>\n",
       "      <td>32</td>\n",
       "      <td>4</td>\n",
       "    </tr>\n",
       "    <tr>\n",
       "      <th>37</th>\n",
       "      <td>เกษตร และสหกรณ์</td>\n",
       "      <td>49</td>\n",
       "      <td>5</td>\n",
       "    </tr>\n",
       "    <tr>\n",
       "      <th>38</th>\n",
       "      <td>เครื่องราชอิสริยาภรณ์</td>\n",
       "      <td>44</td>\n",
       "      <td>5</td>\n",
       "    </tr>\n",
       "    <tr>\n",
       "      <th>39</th>\n",
       "      <td>เครื่องแบบ เสื้อครุย</td>\n",
       "      <td>19</td>\n",
       "      <td>2</td>\n",
       "    </tr>\n",
       "    <tr>\n",
       "      <th>40</th>\n",
       "      <td>เอกสิทธิ์และความคุ้มกัน</td>\n",
       "      <td>50</td>\n",
       "      <td>5</td>\n",
       "    </tr>\n",
       "    <tr>\n",
       "      <th>41</th>\n",
       "      <td>แรงงาน</td>\n",
       "      <td>25</td>\n",
       "      <td>3</td>\n",
       "    </tr>\n",
       "    <tr>\n",
       "      <th>42</th>\n",
       "      <td>โทรคมนาคม และการสื่อสาร</td>\n",
       "      <td>12</td>\n",
       "      <td>2</td>\n",
       "    </tr>\n",
       "  </tbody>\n",
       "</table>\n",
       "</div>"
      ],
      "text/plain": [
       "                                  law_group  nb_laws  nb_pages\n",
       "0                                  กษัตริย์       12         2\n",
       "1        การเงิน การคลัง และวิธีการงบประมาณ      146        15\n",
       "2                         การเมืองการปกครอง      269        27\n",
       "3                            ขนส่งและคมนาคม       59         6\n",
       "4                         คณะกรรมการกฤษฏีกา        2         1\n",
       "5                                คนต่างด้าว       56         6\n",
       "6                          ครอบครัว และมรดก       69         7\n",
       "7    ความมั่นคง และการรักษาความสงบเรียบร้อย       53         6\n",
       "8                   ความเท่าเทียมระหว่างเพศ        1         1\n",
       "9                         คุ้มครองผู้บริโภค       56         6\n",
       "10                            คุ้มครองสัตว์        6         1\n",
       "11                     จัดซื้อจัดจ้างภาครัฐ        6         1\n",
       "12  ทรัพยากรธรรมชาติ พลังงาน และสิ่งแวดล้อม       57         6\n",
       "13                        ทรัพย์สินทางปัญญา       14         2\n",
       "14                                   ที่ดิน       58         6\n",
       "15            ที่อยู่อาศัย และการพัฒนาเมือง       15         2\n",
       "16                   ทุจริต และประพฤติมิชอบ       12         2\n",
       "17       ธง ตราแผ่นดิน และเครื่องหมายราชการ        5         1\n",
       "18   ธนาคาร สถาบันการเงิน และตลาดหลักทรัพย์       40         4\n",
       "19                     ธุรกิจ และพาณิชยกรรม      118        12\n",
       "20                                     พนัน        6         1\n",
       "21                 ภาษีอากร และค่าธรรมเนียม      225        23\n",
       "22                              รัฐวิสาหกิจ       36         4\n",
       "23           วัฒนธรรม กีฬา และการท่องเที่ยว       71         8\n",
       "24                                  วิชาชีพ       35         4\n",
       "25                 วิทยาศาสตร์ และเทคโนโลยี       26         3\n",
       "26                 ศาล และกระบวนการยุติธรรม      118        12\n",
       "27                                    ศาสนา       14         2\n",
       "28                                    ศึกษา       74         8\n",
       "29   สนธิสัญญา และความสัมพันธ์ระหว่างประเทศ       66         7\n",
       "30                          สมาคมและมูลนิธิ       16         2\n",
       "31                           สวัสดิการสังคม       87         9\n",
       "32                                  สัญชาติ        7         1\n",
       "33                                สาธารณสุข       82         9\n",
       "34                     องค์การระหว่างประเทศ       40         4\n",
       "35                                    อาวุธ       27         3\n",
       "36                               อุตสาหกรรม       32         4\n",
       "37                          เกษตร และสหกรณ์       49         5\n",
       "38                    เครื่องราชอิสริยาภรณ์       44         5\n",
       "39                     เครื่องแบบ เสื้อครุย       19         2\n",
       "40                  เอกสิทธิ์และความคุ้มกัน       50         5\n",
       "41                                   แรงงาน       25         3\n",
       "42                  โทรคมนาคม และการสื่อสาร       12         2"
      ]
     },
     "execution_count": 269,
     "metadata": {},
     "output_type": "execute_result"
    }
   ],
   "source": [
    "#get law groups\n",
    "driver = webdriver.Chrome(executable_path='/mnt/c/charin_projects/thai-law/chromedriver.exe')\n",
    "driver.get('https://www.krisdika.go.th/web/guest/thai-code-annotated')\n",
    "soup = BeautifulSoup(driver.page_source)\n",
    "driver.close()\n",
    "\n",
    "law_groups = pd.DataFrame([i.text for i in soup.find_all('a',class_='ksdk-theme-bg-third-color')])\n",
    "law_groups['law_group'] = law_groups[0].map(lambda x: x.split('(')[0][:-1])\n",
    "law_groups['nb_laws'] = law_groups[0].map(lambda x: int(x.split('(')[1][:-1]))\n",
    "law_groups['nb_pages'] = np.ceil(law_groups['nb_laws']/10).astype(int)\n",
    "law_groups = law_groups.drop(0,1)\n",
    "# law_groups.to_csv('data/v0.3/law_groups.csv',index=False)\n",
    "law_groups"
   ]
  },
  {
   "cell_type": "code",
   "execution_count": 270,
   "metadata": {},
   "outputs": [],
   "source": [
    "def get_law_urls(law_group, nb_pages):\n",
    "    #open list page\n",
    "    driver = webdriver.Chrome(executable_path='chromedriver.exe')\n",
    "    driver.get('https://www.krisdika.go.th/web/guest/thai-code-annotated')\n",
    "    #click law group\n",
    "    link = driver.find_element_by_partial_link_text(law_group)\n",
    "    link.click()\n",
    "    \n",
    "    #check if max pagination button appeared\n",
    "    try:\n",
    "        element = WebDriverWait(driver, 10).until(\n",
    "            EC.visibility_of_element_located((By.LINK_TEXT, str(nb_pages)))\n",
    "        )\n",
    "    except:\n",
    "        print('Max pagination button not found')\n",
    "    \n",
    "    #get law _urls\n",
    "    laws = []\n",
    "    law_urls = []\n",
    "    for nb_page in tqdm(range(1, nb_pages+1)):\n",
    "        link = driver.find_element_by_link_text(str(nb_page))\n",
    "        link.click()\n",
    "        soup = BeautifulSoup(driver.page_source)\n",
    "        laws+=[i.text for i in soup.find_all('li', class_='thca-list-law-name')]\n",
    "        law_urls+=[i.find_all('li')[-1].find('a').get('href') for i in soup.find_all('ul', class_='thca-list-icon')]\n",
    "        \n",
    "    #close driver\n",
    "    driver.close()\n",
    "    \n",
    "    #summarize to df\n",
    "    df = pd.DataFrame({'title':laws, 'law_url':law_urls})\n",
    "    df['sysid'] = df.law_url.map(lambda x: x.split('=')[-2].split('&')[0])\n",
    "    df['law_group'] = law_group\n",
    "    return df"
   ]
  },
  {
   "cell_type": "code",
   "execution_count": 272,
   "metadata": {
    "scrolled": false
   },
   "outputs": [
    {
     "data": {
      "application/vnd.jupyter.widget-view+json": {
       "model_id": "8ea060d7870a4ad1874f20f65fe04a61",
       "version_major": 2,
       "version_minor": 0
      },
      "text/plain": [
       "HBox(children=(FloatProgress(value=1.0, bar_style='info', max=1.0), HTML(value='')))"
      ]
     },
     "metadata": {},
     "output_type": "display_data"
    },
    {
     "name": "stdout",
     "output_type": "stream",
     "text": [
      "กษัตริย์\n"
     ]
    },
    {
     "data": {
      "application/vnd.jupyter.widget-view+json": {
       "model_id": "b4ee54d09d164d06bedb9fc64d01974b",
       "version_major": 2,
       "version_minor": 0
      },
      "text/plain": [
       "HBox(children=(FloatProgress(value=0.0, max=2.0), HTML(value='')))"
      ]
     },
     "metadata": {},
     "output_type": "display_data"
    },
    {
     "name": "stdout",
     "output_type": "stream",
     "text": [
      "\n",
      "การเงิน การคลัง และวิธีการงบประมาณ\n"
     ]
    },
    {
     "data": {
      "application/vnd.jupyter.widget-view+json": {
       "model_id": "d6aaa41f04884dc2852e33834782b4ff",
       "version_major": 2,
       "version_minor": 0
      },
      "text/plain": [
       "HBox(children=(FloatProgress(value=0.0, max=15.0), HTML(value='')))"
      ]
     },
     "metadata": {},
     "output_type": "display_data"
    },
    {
     "name": "stdout",
     "output_type": "stream",
     "text": [
      "\n",
      "การเมืองการปกครอง\n"
     ]
    },
    {
     "data": {
      "application/vnd.jupyter.widget-view+json": {
       "model_id": "797a6093c7b047478f4773b161e4fc83",
       "version_major": 2,
       "version_minor": 0
      },
      "text/plain": [
       "HBox(children=(FloatProgress(value=0.0, max=27.0), HTML(value='')))"
      ]
     },
     "metadata": {},
     "output_type": "display_data"
    },
    {
     "name": "stdout",
     "output_type": "stream",
     "text": [
      "\n",
      "ขนส่งและคมนาคม\n"
     ]
    },
    {
     "data": {
      "application/vnd.jupyter.widget-view+json": {
       "model_id": "bf1b36147d3847038e54465215c0b292",
       "version_major": 2,
       "version_minor": 0
      },
      "text/plain": [
       "HBox(children=(FloatProgress(value=0.0, max=6.0), HTML(value='')))"
      ]
     },
     "metadata": {},
     "output_type": "display_data"
    },
    {
     "name": "stdout",
     "output_type": "stream",
     "text": [
      "\n",
      "คณะกรรมการกฤษฏีกา\n"
     ]
    },
    {
     "data": {
      "application/vnd.jupyter.widget-view+json": {
       "model_id": "ca09595d51b242f1a3a5902c9a9ef212",
       "version_major": 2,
       "version_minor": 0
      },
      "text/plain": [
       "HBox(children=(FloatProgress(value=0.0, max=1.0), HTML(value='')))"
      ]
     },
     "metadata": {},
     "output_type": "display_data"
    },
    {
     "name": "stdout",
     "output_type": "stream",
     "text": [
      "\n",
      "คนต่างด้าว\n"
     ]
    },
    {
     "data": {
      "application/vnd.jupyter.widget-view+json": {
       "model_id": "08fbc3124d7446e9be2b02fdca06fa4e",
       "version_major": 2,
       "version_minor": 0
      },
      "text/plain": [
       "HBox(children=(FloatProgress(value=0.0, max=6.0), HTML(value='')))"
      ]
     },
     "metadata": {},
     "output_type": "display_data"
    },
    {
     "name": "stdout",
     "output_type": "stream",
     "text": [
      "\n",
      "ครอบครัว และมรดก\n"
     ]
    },
    {
     "data": {
      "application/vnd.jupyter.widget-view+json": {
       "model_id": "8ef3a885eccd4b1d92d145c6d6736191",
       "version_major": 2,
       "version_minor": 0
      },
      "text/plain": [
       "HBox(children=(FloatProgress(value=0.0, max=7.0), HTML(value='')))"
      ]
     },
     "metadata": {},
     "output_type": "display_data"
    },
    {
     "name": "stdout",
     "output_type": "stream",
     "text": [
      "\n",
      "ความมั่นคง และการรักษาความสงบเรียบร้อย\n"
     ]
    },
    {
     "data": {
      "application/vnd.jupyter.widget-view+json": {
       "model_id": "812640d9697947ca8e28d608ebdd4adf",
       "version_major": 2,
       "version_minor": 0
      },
      "text/plain": [
       "HBox(children=(FloatProgress(value=0.0, max=6.0), HTML(value='')))"
      ]
     },
     "metadata": {},
     "output_type": "display_data"
    },
    {
     "name": "stdout",
     "output_type": "stream",
     "text": [
      "\n",
      "ความเท่าเทียมระหว่างเพศ\n"
     ]
    },
    {
     "data": {
      "application/vnd.jupyter.widget-view+json": {
       "model_id": "72b6ad64e25c4bee831e706061b75298",
       "version_major": 2,
       "version_minor": 0
      },
      "text/plain": [
       "HBox(children=(FloatProgress(value=0.0, max=1.0), HTML(value='')))"
      ]
     },
     "metadata": {},
     "output_type": "display_data"
    },
    {
     "name": "stdout",
     "output_type": "stream",
     "text": [
      "\n",
      "คุ้มครองผู้บริโภค\n"
     ]
    },
    {
     "data": {
      "application/vnd.jupyter.widget-view+json": {
       "model_id": "1e7f91b3c64240e583398cb6f9d83109",
       "version_major": 2,
       "version_minor": 0
      },
      "text/plain": [
       "HBox(children=(FloatProgress(value=0.0, max=6.0), HTML(value='')))"
      ]
     },
     "metadata": {},
     "output_type": "display_data"
    },
    {
     "name": "stdout",
     "output_type": "stream",
     "text": [
      "\n",
      "คุ้มครองสัตว์\n"
     ]
    },
    {
     "data": {
      "application/vnd.jupyter.widget-view+json": {
       "model_id": "56d5039794274dac930ee1ffc9a2ecaf",
       "version_major": 2,
       "version_minor": 0
      },
      "text/plain": [
       "HBox(children=(FloatProgress(value=0.0, max=1.0), HTML(value='')))"
      ]
     },
     "metadata": {},
     "output_type": "display_data"
    },
    {
     "name": "stdout",
     "output_type": "stream",
     "text": [
      "\n",
      "จัดซื้อจัดจ้างภาครัฐ\n"
     ]
    },
    {
     "data": {
      "application/vnd.jupyter.widget-view+json": {
       "model_id": "3961d3dbf358494bb42f966da7ff4a17",
       "version_major": 2,
       "version_minor": 0
      },
      "text/plain": [
       "HBox(children=(FloatProgress(value=0.0, max=1.0), HTML(value='')))"
      ]
     },
     "metadata": {},
     "output_type": "display_data"
    },
    {
     "name": "stdout",
     "output_type": "stream",
     "text": [
      "\n",
      "ทรัพยากรธรรมชาติ พลังงาน และสิ่งแวดล้อม\n"
     ]
    },
    {
     "data": {
      "application/vnd.jupyter.widget-view+json": {
       "model_id": "f5cb8048f0474d47a28da6fd0ad939dc",
       "version_major": 2,
       "version_minor": 0
      },
      "text/plain": [
       "HBox(children=(FloatProgress(value=0.0, max=6.0), HTML(value='')))"
      ]
     },
     "metadata": {},
     "output_type": "display_data"
    },
    {
     "name": "stdout",
     "output_type": "stream",
     "text": [
      "\n",
      "ทรัพย์สินทางปัญญา\n"
     ]
    },
    {
     "data": {
      "application/vnd.jupyter.widget-view+json": {
       "model_id": "2ba412a86d3a4e888998cb6b6c955ad1",
       "version_major": 2,
       "version_minor": 0
      },
      "text/plain": [
       "HBox(children=(FloatProgress(value=0.0, max=2.0), HTML(value='')))"
      ]
     },
     "metadata": {},
     "output_type": "display_data"
    },
    {
     "name": "stdout",
     "output_type": "stream",
     "text": [
      "\n",
      "ที่ดิน\n"
     ]
    },
    {
     "data": {
      "application/vnd.jupyter.widget-view+json": {
       "model_id": "fb1a302eb85a474984fc64fe10685b44",
       "version_major": 2,
       "version_minor": 0
      },
      "text/plain": [
       "HBox(children=(FloatProgress(value=0.0, max=6.0), HTML(value='')))"
      ]
     },
     "metadata": {},
     "output_type": "display_data"
    },
    {
     "name": "stdout",
     "output_type": "stream",
     "text": [
      "\n",
      "ที่อยู่อาศัย และการพัฒนาเมือง\n"
     ]
    },
    {
     "data": {
      "application/vnd.jupyter.widget-view+json": {
       "model_id": "c3bc9d798dfc42029fbf0e127d28f004",
       "version_major": 2,
       "version_minor": 0
      },
      "text/plain": [
       "HBox(children=(FloatProgress(value=0.0, max=2.0), HTML(value='')))"
      ]
     },
     "metadata": {},
     "output_type": "display_data"
    },
    {
     "name": "stdout",
     "output_type": "stream",
     "text": [
      "\n",
      "ทุจริต และประพฤติมิชอบ\n"
     ]
    },
    {
     "data": {
      "application/vnd.jupyter.widget-view+json": {
       "model_id": "e4c5430d96aa49e881bfb7e93ad23c8c",
       "version_major": 2,
       "version_minor": 0
      },
      "text/plain": [
       "HBox(children=(FloatProgress(value=0.0, max=2.0), HTML(value='')))"
      ]
     },
     "metadata": {},
     "output_type": "display_data"
    },
    {
     "name": "stdout",
     "output_type": "stream",
     "text": [
      "\n",
      "ธง ตราแผ่นดิน และเครื่องหมายราชการ\n"
     ]
    },
    {
     "data": {
      "application/vnd.jupyter.widget-view+json": {
       "model_id": "24a26da697db4f7eaf599715dd9097aa",
       "version_major": 2,
       "version_minor": 0
      },
      "text/plain": [
       "HBox(children=(FloatProgress(value=0.0, max=1.0), HTML(value='')))"
      ]
     },
     "metadata": {},
     "output_type": "display_data"
    },
    {
     "name": "stdout",
     "output_type": "stream",
     "text": [
      "\n",
      "ธนาคาร สถาบันการเงิน และตลาดหลักทรัพย์\n"
     ]
    },
    {
     "data": {
      "application/vnd.jupyter.widget-view+json": {
       "model_id": "c9ad6979cb8745bd8edb294ef920729f",
       "version_major": 2,
       "version_minor": 0
      },
      "text/plain": [
       "HBox(children=(FloatProgress(value=0.0, max=4.0), HTML(value='')))"
      ]
     },
     "metadata": {},
     "output_type": "display_data"
    },
    {
     "name": "stdout",
     "output_type": "stream",
     "text": [
      "\n",
      "ธุรกิจ และพาณิชยกรรม\n"
     ]
    },
    {
     "data": {
      "application/vnd.jupyter.widget-view+json": {
       "model_id": "9ed6b14e84254b839b06687a4036e7f1",
       "version_major": 2,
       "version_minor": 0
      },
      "text/plain": [
       "HBox(children=(FloatProgress(value=0.0, max=12.0), HTML(value='')))"
      ]
     },
     "metadata": {},
     "output_type": "display_data"
    },
    {
     "name": "stdout",
     "output_type": "stream",
     "text": [
      "\n",
      "พนัน\n"
     ]
    },
    {
     "data": {
      "application/vnd.jupyter.widget-view+json": {
       "model_id": "0c49df0c430c4d1b994b0d6dde2f3466",
       "version_major": 2,
       "version_minor": 0
      },
      "text/plain": [
       "HBox(children=(FloatProgress(value=0.0, max=1.0), HTML(value='')))"
      ]
     },
     "metadata": {},
     "output_type": "display_data"
    },
    {
     "name": "stdout",
     "output_type": "stream",
     "text": [
      "\n",
      "ภาษีอากร และค่าธรรมเนียม\n"
     ]
    },
    {
     "data": {
      "application/vnd.jupyter.widget-view+json": {
       "model_id": "66a819b0942f47349e6fbe79ffa3d326",
       "version_major": 2,
       "version_minor": 0
      },
      "text/plain": [
       "HBox(children=(FloatProgress(value=0.0, max=23.0), HTML(value='')))"
      ]
     },
     "metadata": {},
     "output_type": "display_data"
    },
    {
     "name": "stdout",
     "output_type": "stream",
     "text": [
      "\n",
      "รัฐวิสาหกิจ\n"
     ]
    },
    {
     "data": {
      "application/vnd.jupyter.widget-view+json": {
       "model_id": "bb7467a4c01147739088db909ad976aa",
       "version_major": 2,
       "version_minor": 0
      },
      "text/plain": [
       "HBox(children=(FloatProgress(value=0.0, max=4.0), HTML(value='')))"
      ]
     },
     "metadata": {},
     "output_type": "display_data"
    },
    {
     "name": "stdout",
     "output_type": "stream",
     "text": [
      "\n",
      "วัฒนธรรม กีฬา และการท่องเที่ยว\n"
     ]
    },
    {
     "data": {
      "application/vnd.jupyter.widget-view+json": {
       "model_id": "e09067ae3ad543d583eafcf719db3d1e",
       "version_major": 2,
       "version_minor": 0
      },
      "text/plain": [
       "HBox(children=(FloatProgress(value=0.0, max=8.0), HTML(value='')))"
      ]
     },
     "metadata": {},
     "output_type": "display_data"
    },
    {
     "name": "stdout",
     "output_type": "stream",
     "text": [
      "\n",
      "วิชาชีพ\n"
     ]
    },
    {
     "data": {
      "application/vnd.jupyter.widget-view+json": {
       "model_id": "07afb6ce863f41f19c6585d38fb2c99e",
       "version_major": 2,
       "version_minor": 0
      },
      "text/plain": [
       "HBox(children=(FloatProgress(value=0.0, max=4.0), HTML(value='')))"
      ]
     },
     "metadata": {},
     "output_type": "display_data"
    },
    {
     "name": "stdout",
     "output_type": "stream",
     "text": [
      "\n",
      "วิทยาศาสตร์ และเทคโนโลยี\n"
     ]
    },
    {
     "data": {
      "application/vnd.jupyter.widget-view+json": {
       "model_id": "6f3a4b8e16e04310abd06367201dd837",
       "version_major": 2,
       "version_minor": 0
      },
      "text/plain": [
       "HBox(children=(FloatProgress(value=0.0, max=3.0), HTML(value='')))"
      ]
     },
     "metadata": {},
     "output_type": "display_data"
    },
    {
     "name": "stdout",
     "output_type": "stream",
     "text": [
      "\n",
      "ศาล และกระบวนการยุติธรรม\n"
     ]
    },
    {
     "data": {
      "application/vnd.jupyter.widget-view+json": {
       "model_id": "490d7f9443034fcd858e38666fa1320a",
       "version_major": 2,
       "version_minor": 0
      },
      "text/plain": [
       "HBox(children=(FloatProgress(value=0.0, max=12.0), HTML(value='')))"
      ]
     },
     "metadata": {},
     "output_type": "display_data"
    },
    {
     "name": "stdout",
     "output_type": "stream",
     "text": [
      "\n",
      "ศาสนา\n"
     ]
    },
    {
     "data": {
      "application/vnd.jupyter.widget-view+json": {
       "model_id": "7b0e165c1b3f46709915b90b7bd4a55c",
       "version_major": 2,
       "version_minor": 0
      },
      "text/plain": [
       "HBox(children=(FloatProgress(value=0.0, max=2.0), HTML(value='')))"
      ]
     },
     "metadata": {},
     "output_type": "display_data"
    },
    {
     "name": "stdout",
     "output_type": "stream",
     "text": [
      "\n",
      "ศึกษา\n"
     ]
    },
    {
     "data": {
      "application/vnd.jupyter.widget-view+json": {
       "model_id": "4970ebc075a6487d976755efe7f688e3",
       "version_major": 2,
       "version_minor": 0
      },
      "text/plain": [
       "HBox(children=(FloatProgress(value=0.0, max=8.0), HTML(value='')))"
      ]
     },
     "metadata": {},
     "output_type": "display_data"
    },
    {
     "name": "stdout",
     "output_type": "stream",
     "text": [
      "\n",
      "สนธิสัญญา และความสัมพันธ์ระหว่างประเทศ\n"
     ]
    },
    {
     "data": {
      "application/vnd.jupyter.widget-view+json": {
       "model_id": "db292afab68a49259b78198c897ac6ab",
       "version_major": 2,
       "version_minor": 0
      },
      "text/plain": [
       "HBox(children=(FloatProgress(value=0.0, max=7.0), HTML(value='')))"
      ]
     },
     "metadata": {},
     "output_type": "display_data"
    },
    {
     "name": "stdout",
     "output_type": "stream",
     "text": [
      "\n",
      "สมาคมและมูลนิธิ\n"
     ]
    },
    {
     "data": {
      "application/vnd.jupyter.widget-view+json": {
       "model_id": "05f976203fe94bed84595d28d0636f6a",
       "version_major": 2,
       "version_minor": 0
      },
      "text/plain": [
       "HBox(children=(FloatProgress(value=0.0, max=2.0), HTML(value='')))"
      ]
     },
     "metadata": {},
     "output_type": "display_data"
    },
    {
     "name": "stdout",
     "output_type": "stream",
     "text": [
      "\n",
      "สวัสดิการสังคม\n"
     ]
    },
    {
     "data": {
      "application/vnd.jupyter.widget-view+json": {
       "model_id": "33575caca28f45289dff88f9d4a6369d",
       "version_major": 2,
       "version_minor": 0
      },
      "text/plain": [
       "HBox(children=(FloatProgress(value=0.0, max=9.0), HTML(value='')))"
      ]
     },
     "metadata": {},
     "output_type": "display_data"
    },
    {
     "name": "stdout",
     "output_type": "stream",
     "text": [
      "\n",
      "สัญชาติ\n"
     ]
    },
    {
     "data": {
      "application/vnd.jupyter.widget-view+json": {
       "model_id": "6a5e6c94976e46b4a3563756ff5a92af",
       "version_major": 2,
       "version_minor": 0
      },
      "text/plain": [
       "HBox(children=(FloatProgress(value=0.0, max=1.0), HTML(value='')))"
      ]
     },
     "metadata": {},
     "output_type": "display_data"
    },
    {
     "name": "stdout",
     "output_type": "stream",
     "text": [
      "\n",
      "สาธารณสุข\n"
     ]
    },
    {
     "data": {
      "application/vnd.jupyter.widget-view+json": {
       "model_id": "a5597dba934e4a6990b5c261ae099157",
       "version_major": 2,
       "version_minor": 0
      },
      "text/plain": [
       "HBox(children=(FloatProgress(value=0.0, max=9.0), HTML(value='')))"
      ]
     },
     "metadata": {},
     "output_type": "display_data"
    },
    {
     "name": "stdout",
     "output_type": "stream",
     "text": [
      "\n",
      "องค์การระหว่างประเทศ\n"
     ]
    },
    {
     "data": {
      "application/vnd.jupyter.widget-view+json": {
       "model_id": "a4f3063677d8493abff557263a54a3fe",
       "version_major": 2,
       "version_minor": 0
      },
      "text/plain": [
       "HBox(children=(FloatProgress(value=0.0, max=4.0), HTML(value='')))"
      ]
     },
     "metadata": {},
     "output_type": "display_data"
    },
    {
     "name": "stdout",
     "output_type": "stream",
     "text": [
      "\n",
      "อาวุธ\n"
     ]
    },
    {
     "data": {
      "application/vnd.jupyter.widget-view+json": {
       "model_id": "524cfaa892f24d7da6226aa576478727",
       "version_major": 2,
       "version_minor": 0
      },
      "text/plain": [
       "HBox(children=(FloatProgress(value=0.0, max=3.0), HTML(value='')))"
      ]
     },
     "metadata": {},
     "output_type": "display_data"
    },
    {
     "name": "stdout",
     "output_type": "stream",
     "text": [
      "\n",
      "อุตสาหกรรม\n"
     ]
    },
    {
     "data": {
      "application/vnd.jupyter.widget-view+json": {
       "model_id": "08938146ff9d431bb4b9a4aa16accdd8",
       "version_major": 2,
       "version_minor": 0
      },
      "text/plain": [
       "HBox(children=(FloatProgress(value=0.0, max=4.0), HTML(value='')))"
      ]
     },
     "metadata": {},
     "output_type": "display_data"
    },
    {
     "name": "stdout",
     "output_type": "stream",
     "text": [
      "\n",
      "เกษตร และสหกรณ์\n"
     ]
    },
    {
     "data": {
      "application/vnd.jupyter.widget-view+json": {
       "model_id": "ca3cc698c35b4688baa5f70f04945b05",
       "version_major": 2,
       "version_minor": 0
      },
      "text/plain": [
       "HBox(children=(FloatProgress(value=0.0, max=5.0), HTML(value='')))"
      ]
     },
     "metadata": {},
     "output_type": "display_data"
    },
    {
     "name": "stdout",
     "output_type": "stream",
     "text": [
      "\n",
      "เครื่องราชอิสริยาภรณ์\n"
     ]
    },
    {
     "data": {
      "application/vnd.jupyter.widget-view+json": {
       "model_id": "071fa484493f4762a264aee1e4afc85a",
       "version_major": 2,
       "version_minor": 0
      },
      "text/plain": [
       "HBox(children=(FloatProgress(value=0.0, max=5.0), HTML(value='')))"
      ]
     },
     "metadata": {},
     "output_type": "display_data"
    },
    {
     "name": "stdout",
     "output_type": "stream",
     "text": [
      "\n",
      "เครื่องแบบ เสื้อครุย\n"
     ]
    },
    {
     "data": {
      "application/vnd.jupyter.widget-view+json": {
       "model_id": "ceed1447f9704cfd981c12fc24821c4b",
       "version_major": 2,
       "version_minor": 0
      },
      "text/plain": [
       "HBox(children=(FloatProgress(value=0.0, max=2.0), HTML(value='')))"
      ]
     },
     "metadata": {},
     "output_type": "display_data"
    },
    {
     "name": "stdout",
     "output_type": "stream",
     "text": [
      "\n",
      "เอกสิทธิ์และความคุ้มกัน\n"
     ]
    },
    {
     "data": {
      "application/vnd.jupyter.widget-view+json": {
       "model_id": "5226678e3eba413e8e5a7fcf5d3a3431",
       "version_major": 2,
       "version_minor": 0
      },
      "text/plain": [
       "HBox(children=(FloatProgress(value=0.0, max=5.0), HTML(value='')))"
      ]
     },
     "metadata": {},
     "output_type": "display_data"
    },
    {
     "name": "stdout",
     "output_type": "stream",
     "text": [
      "\n",
      "แรงงาน\n"
     ]
    },
    {
     "data": {
      "application/vnd.jupyter.widget-view+json": {
       "model_id": "9b5742578b7c4bf2b9d7cb1cfdb2f9c2",
       "version_major": 2,
       "version_minor": 0
      },
      "text/plain": [
       "HBox(children=(FloatProgress(value=0.0, max=3.0), HTML(value='')))"
      ]
     },
     "metadata": {},
     "output_type": "display_data"
    },
    {
     "name": "stdout",
     "output_type": "stream",
     "text": [
      "\n",
      "โทรคมนาคม และการสื่อสาร\n"
     ]
    },
    {
     "data": {
      "application/vnd.jupyter.widget-view+json": {
       "model_id": "0b39f9629bfe434ea5619ce65407300b",
       "version_major": 2,
       "version_minor": 0
      },
      "text/plain": [
       "HBox(children=(FloatProgress(value=0.0, max=2.0), HTML(value='')))"
      ]
     },
     "metadata": {},
     "output_type": "display_data"
    },
    {
     "name": "stdout",
     "output_type": "stream",
     "text": [
      "\n",
      "\n"
     ]
    }
   ],
   "source": [
    "dfs = []\n",
    "for row in tqdm(law_groups.itertuples(index=False)):\n",
    "    print(row[0])\n",
    "    df = get_law_urls(row[0],row[2])\n",
    "    dfs.append(df)"
   ]
  },
  {
   "cell_type": "code",
   "execution_count": 273,
   "metadata": {},
   "outputs": [
    {
     "data": {
      "text/html": [
       "<div>\n",
       "<style scoped>\n",
       "    .dataframe tbody tr th:only-of-type {\n",
       "        vertical-align: middle;\n",
       "    }\n",
       "\n",
       "    .dataframe tbody tr th {\n",
       "        vertical-align: top;\n",
       "    }\n",
       "\n",
       "    .dataframe thead th {\n",
       "        text-align: right;\n",
       "    }\n",
       "</style>\n",
       "<table border=\"1\" class=\"dataframe\">\n",
       "  <thead>\n",
       "    <tr style=\"text-align: right;\">\n",
       "      <th></th>\n",
       "      <th>title</th>\n",
       "      <th>law_url</th>\n",
       "      <th>sysid</th>\n",
       "      <th>law_group</th>\n",
       "    </tr>\n",
       "  </thead>\n",
       "  <tbody>\n",
       "    <tr>\n",
       "      <th>0</th>\n",
       "      <td>พระราชกำหนดโอนอัตรากำลังพลและงบประมาณบางส่วนขอ...</td>\n",
       "      <td>https://www.krisdika.go.th/librarian/get?sysid...</td>\n",
       "      <td>843218</td>\n",
       "      <td>กษัตริย์</td>\n",
       "    </tr>\n",
       "    <tr>\n",
       "      <th>1</th>\n",
       "      <td>พระราชบัญญัติระเบียบบริหารราชการในพระองค์ พ.ศ....</td>\n",
       "      <td>https://www.krisdika.go.th/librarian/get?sysid...</td>\n",
       "      <td>775999</td>\n",
       "      <td>กษัตริย์</td>\n",
       "    </tr>\n",
       "    <tr>\n",
       "      <th>2</th>\n",
       "      <td>รัฐธรรมนูญแห่งราชอาณาจักรไทย</td>\n",
       "      <td>https://www.krisdika.go.th/librarian/get?sysid...</td>\n",
       "      <td>774606</td>\n",
       "      <td>กษัตริย์</td>\n",
       "    </tr>\n",
       "    <tr>\n",
       "      <th>3</th>\n",
       "      <td>ประมวลกฎหมายอาญา (ฉบับ Update ล่าสุด)</td>\n",
       "      <td>https://www.krisdika.go.th/librarian/get?sysid...</td>\n",
       "      <td>443287</td>\n",
       "      <td>กษัตริย์</td>\n",
       "    </tr>\n",
       "    <tr>\n",
       "      <th>4</th>\n",
       "      <td>ประมวลกฎหมายวิธีพิจารณาความอาญา (ฉบับ Update ล...</td>\n",
       "      <td>https://www.krisdika.go.th/librarian/get?sysid...</td>\n",
       "      <td>570066</td>\n",
       "      <td>กษัตริย์</td>\n",
       "    </tr>\n",
       "    <tr>\n",
       "      <th>...</th>\n",
       "      <td>...</td>\n",
       "      <td>...</td>\n",
       "      <td>...</td>\n",
       "      <td>...</td>\n",
       "    </tr>\n",
       "    <tr>\n",
       "      <th>7</th>\n",
       "      <td>พระราชบัญญัติจดแจ้งการพิมพ์ พ.ศ. 2550</td>\n",
       "      <td>https://www.krisdika.go.th/librarian/get?sysid...</td>\n",
       "      <td>568883</td>\n",
       "      <td>โทรคมนาคม และการสื่อสาร</td>\n",
       "    </tr>\n",
       "    <tr>\n",
       "      <th>8</th>\n",
       "      <td>พระราชบัญญัติคุ้มครองการดำเนินงานขององค์การโทร...</td>\n",
       "      <td>https://www.krisdika.go.th/librarian/get?sysid...</td>\n",
       "      <td>319040</td>\n",
       "      <td>โทรคมนาคม และการสื่อสาร</td>\n",
       "    </tr>\n",
       "    <tr>\n",
       "      <th>9</th>\n",
       "      <td>พระราชบัญญัติคุ้มครองการดำเนินงานขององค์การโทร...</td>\n",
       "      <td>https://www.krisdika.go.th/librarian/get?sysid...</td>\n",
       "      <td>302303</td>\n",
       "      <td>โทรคมนาคม และการสื่อสาร</td>\n",
       "    </tr>\n",
       "    <tr>\n",
       "      <th>10</th>\n",
       "      <td>พระราชบัญญัติกองทุนพัฒนาสื่อปลอดภัยและสร้างสรร...</td>\n",
       "      <td>https://www.krisdika.go.th/librarian/get?sysid...</td>\n",
       "      <td>725393</td>\n",
       "      <td>โทรคมนาคม และการสื่อสาร</td>\n",
       "    </tr>\n",
       "    <tr>\n",
       "      <th>11</th>\n",
       "      <td>พระราชบัญญัติการประกอบกิจการกระจายเสียงและกิจก...</td>\n",
       "      <td>https://www.krisdika.go.th/librarian/get?sysid...</td>\n",
       "      <td>573055</td>\n",
       "      <td>โทรคมนาคม และการสื่อสาร</td>\n",
       "    </tr>\n",
       "  </tbody>\n",
       "</table>\n",
       "<p>2215 rows × 4 columns</p>\n",
       "</div>"
      ],
      "text/plain": [
       "                                                title  \\\n",
       "0   พระราชกำหนดโอนอัตรากำลังพลและงบประมาณบางส่วนขอ...   \n",
       "1   พระราชบัญญัติระเบียบบริหารราชการในพระองค์ พ.ศ....   \n",
       "2                        รัฐธรรมนูญแห่งราชอาณาจักรไทย   \n",
       "3               ประมวลกฎหมายอาญา (ฉบับ Update ล่าสุด)   \n",
       "4   ประมวลกฎหมายวิธีพิจารณาความอาญา (ฉบับ Update ล...   \n",
       "..                                                ...   \n",
       "7               พระราชบัญญัติจดแจ้งการพิมพ์ พ.ศ. 2550   \n",
       "8   พระราชบัญญัติคุ้มครองการดำเนินงานขององค์การโทร...   \n",
       "9   พระราชบัญญัติคุ้มครองการดำเนินงานขององค์การโทร...   \n",
       "10  พระราชบัญญัติกองทุนพัฒนาสื่อปลอดภัยและสร้างสรร...   \n",
       "11  พระราชบัญญัติการประกอบกิจการกระจายเสียงและกิจก...   \n",
       "\n",
       "                                              law_url   sysid  \\\n",
       "0   https://www.krisdika.go.th/librarian/get?sysid...  843218   \n",
       "1   https://www.krisdika.go.th/librarian/get?sysid...  775999   \n",
       "2   https://www.krisdika.go.th/librarian/get?sysid...  774606   \n",
       "3   https://www.krisdika.go.th/librarian/get?sysid...  443287   \n",
       "4   https://www.krisdika.go.th/librarian/get?sysid...  570066   \n",
       "..                                                ...     ...   \n",
       "7   https://www.krisdika.go.th/librarian/get?sysid...  568883   \n",
       "8   https://www.krisdika.go.th/librarian/get?sysid...  319040   \n",
       "9   https://www.krisdika.go.th/librarian/get?sysid...  302303   \n",
       "10  https://www.krisdika.go.th/librarian/get?sysid...  725393   \n",
       "11  https://www.krisdika.go.th/librarian/get?sysid...  573055   \n",
       "\n",
       "                  law_group  \n",
       "0                  กษัตริย์  \n",
       "1                  กษัตริย์  \n",
       "2                  กษัตริย์  \n",
       "3                  กษัตริย์  \n",
       "4                  กษัตริย์  \n",
       "..                      ...  \n",
       "7   โทรคมนาคม และการสื่อสาร  \n",
       "8   โทรคมนาคม และการสื่อสาร  \n",
       "9   โทรคมนาคม และการสื่อสาร  \n",
       "10  โทรคมนาคม และการสื่อสาร  \n",
       "11  โทรคมนาคม และการสื่อสาร  \n",
       "\n",
       "[2215 rows x 4 columns]"
      ]
     },
     "execution_count": 273,
     "metadata": {},
     "output_type": "execute_result"
    }
   ],
   "source": [
    "law_url_df = pd.concat(dfs)\n",
    "law_url_df"
   ]
  },
  {
   "cell_type": "code",
   "execution_count": 323,
   "metadata": {},
   "outputs": [
    {
     "data": {
      "text/plain": [
       "พระราชบัญญัติ    2012\n",
       "พระราชกำหนด        81\n",
       "ประมวลกฎหมาย       54\n",
       "รัฐธรรมนูญ         32\n",
       "ประกาศ             21\n",
       "ประมวลรัษฎากร      11\n",
       "คำสั่ง              3\n",
       "พระธรรมนูญ          1\n",
       "Name: law_type, dtype: int64"
      ]
     },
     "execution_count": 323,
     "metadata": {},
     "output_type": "execute_result"
    }
   ],
   "source": [
    "#designate law types\n",
    "law_types = ['รัฐธรรมนูญ', 'พระราชบัญญัติ', 'พระราชกำหนด','ประมวลกฎหมาย', 'ประมวลรัษฎากร','ประกาศ','คำสั่ง','พระธรรมนูญ']\n",
    "\n",
    "def get_law_type(law_name, law_types=law_types, max_char=13):\n",
    "    for l in law_types:\n",
    "        if l in law_name[:max_char]:\n",
    "            return l\n",
    "    return 'others'\n",
    "\n",
    "law_url_df['law_type'] = law_url_df.title.map(get_law_type)\n",
    "law_url_df.law_type.value_counts()"
   ]
  },
  {
   "cell_type": "code",
   "execution_count": 324,
   "metadata": {},
   "outputs": [
    {
     "data": {
      "text/html": [
       "<div>\n",
       "<style scoped>\n",
       "    .dataframe tbody tr th:only-of-type {\n",
       "        vertical-align: middle;\n",
       "    }\n",
       "\n",
       "    .dataframe tbody tr th {\n",
       "        vertical-align: top;\n",
       "    }\n",
       "\n",
       "    .dataframe thead th {\n",
       "        text-align: right;\n",
       "    }\n",
       "</style>\n",
       "<table border=\"1\" class=\"dataframe\">\n",
       "  <thead>\n",
       "    <tr style=\"text-align: right;\">\n",
       "      <th></th>\n",
       "      <th>title</th>\n",
       "      <th>law_url</th>\n",
       "      <th>sysid</th>\n",
       "      <th>law_group</th>\n",
       "      <th>law_type</th>\n",
       "    </tr>\n",
       "  </thead>\n",
       "  <tbody>\n",
       "    <tr>\n",
       "      <th>0</th>\n",
       "      <td>พระราชกำหนดโอนอัตรากำลังพลและงบประมาณบางส่วนขอ...</td>\n",
       "      <td>https://www.krisdika.go.th/librarian/get?sysid...</td>\n",
       "      <td>843218</td>\n",
       "      <td>กษัตริย์</td>\n",
       "      <td>พระราชกำหนด</td>\n",
       "    </tr>\n",
       "    <tr>\n",
       "      <th>1</th>\n",
       "      <td>พระราชบัญญัติระเบียบบริหารราชการในพระองค์ พ.ศ....</td>\n",
       "      <td>https://www.krisdika.go.th/librarian/get?sysid...</td>\n",
       "      <td>775999</td>\n",
       "      <td>กษัตริย์</td>\n",
       "      <td>พระราชบัญญัติ</td>\n",
       "    </tr>\n",
       "    <tr>\n",
       "      <th>2</th>\n",
       "      <td>รัฐธรรมนูญแห่งราชอาณาจักรไทย</td>\n",
       "      <td>https://www.krisdika.go.th/librarian/get?sysid...</td>\n",
       "      <td>774606</td>\n",
       "      <td>กษัตริย์</td>\n",
       "      <td>รัฐธรรมนูญ</td>\n",
       "    </tr>\n",
       "    <tr>\n",
       "      <th>3</th>\n",
       "      <td>ประมวลกฎหมายอาญา (ฉบับ Update ล่าสุด)</td>\n",
       "      <td>https://www.krisdika.go.th/librarian/get?sysid...</td>\n",
       "      <td>443287</td>\n",
       "      <td>กษัตริย์</td>\n",
       "      <td>ประมวลกฎหมาย</td>\n",
       "    </tr>\n",
       "    <tr>\n",
       "      <th>4</th>\n",
       "      <td>ประมวลกฎหมายวิธีพิจารณาความอาญา (ฉบับ Update ล...</td>\n",
       "      <td>https://www.krisdika.go.th/librarian/get?sysid...</td>\n",
       "      <td>570066</td>\n",
       "      <td>กษัตริย์</td>\n",
       "      <td>ประมวลกฎหมาย</td>\n",
       "    </tr>\n",
       "    <tr>\n",
       "      <th>...</th>\n",
       "      <td>...</td>\n",
       "      <td>...</td>\n",
       "      <td>...</td>\n",
       "      <td>...</td>\n",
       "      <td>...</td>\n",
       "    </tr>\n",
       "    <tr>\n",
       "      <th>2210</th>\n",
       "      <td>พระราชบัญญัติจดแจ้งการพิมพ์ พ.ศ. 2550</td>\n",
       "      <td>https://www.krisdika.go.th/librarian/get?sysid...</td>\n",
       "      <td>568883</td>\n",
       "      <td>โทรคมนาคม และการสื่อสาร</td>\n",
       "      <td>พระราชบัญญัติ</td>\n",
       "    </tr>\n",
       "    <tr>\n",
       "      <th>2211</th>\n",
       "      <td>พระราชบัญญัติคุ้มครองการดำเนินงานขององค์การโทร...</td>\n",
       "      <td>https://www.krisdika.go.th/librarian/get?sysid...</td>\n",
       "      <td>319040</td>\n",
       "      <td>โทรคมนาคม และการสื่อสาร</td>\n",
       "      <td>พระราชบัญญัติ</td>\n",
       "    </tr>\n",
       "    <tr>\n",
       "      <th>2212</th>\n",
       "      <td>พระราชบัญญัติคุ้มครองการดำเนินงานขององค์การโทร...</td>\n",
       "      <td>https://www.krisdika.go.th/librarian/get?sysid...</td>\n",
       "      <td>302303</td>\n",
       "      <td>โทรคมนาคม และการสื่อสาร</td>\n",
       "      <td>พระราชบัญญัติ</td>\n",
       "    </tr>\n",
       "    <tr>\n",
       "      <th>2213</th>\n",
       "      <td>พระราชบัญญัติกองทุนพัฒนาสื่อปลอดภัยและสร้างสรร...</td>\n",
       "      <td>https://www.krisdika.go.th/librarian/get?sysid...</td>\n",
       "      <td>725393</td>\n",
       "      <td>โทรคมนาคม และการสื่อสาร</td>\n",
       "      <td>พระราชบัญญัติ</td>\n",
       "    </tr>\n",
       "    <tr>\n",
       "      <th>2214</th>\n",
       "      <td>พระราชบัญญัติการประกอบกิจการกระจายเสียงและกิจก...</td>\n",
       "      <td>https://www.krisdika.go.th/librarian/get?sysid...</td>\n",
       "      <td>573055</td>\n",
       "      <td>โทรคมนาคม และการสื่อสาร</td>\n",
       "      <td>พระราชบัญญัติ</td>\n",
       "    </tr>\n",
       "  </tbody>\n",
       "</table>\n",
       "<p>2215 rows × 5 columns</p>\n",
       "</div>"
      ],
      "text/plain": [
       "                                                  title  \\\n",
       "0     พระราชกำหนดโอนอัตรากำลังพลและงบประมาณบางส่วนขอ...   \n",
       "1     พระราชบัญญัติระเบียบบริหารราชการในพระองค์ พ.ศ....   \n",
       "2                          รัฐธรรมนูญแห่งราชอาณาจักรไทย   \n",
       "3                 ประมวลกฎหมายอาญา (ฉบับ Update ล่าสุด)   \n",
       "4     ประมวลกฎหมายวิธีพิจารณาความอาญา (ฉบับ Update ล...   \n",
       "...                                                 ...   \n",
       "2210              พระราชบัญญัติจดแจ้งการพิมพ์ พ.ศ. 2550   \n",
       "2211  พระราชบัญญัติคุ้มครองการดำเนินงานขององค์การโทร...   \n",
       "2212  พระราชบัญญัติคุ้มครองการดำเนินงานขององค์การโทร...   \n",
       "2213  พระราชบัญญัติกองทุนพัฒนาสื่อปลอดภัยและสร้างสรร...   \n",
       "2214  พระราชบัญญัติการประกอบกิจการกระจายเสียงและกิจก...   \n",
       "\n",
       "                                                law_url   sysid  \\\n",
       "0     https://www.krisdika.go.th/librarian/get?sysid...  843218   \n",
       "1     https://www.krisdika.go.th/librarian/get?sysid...  775999   \n",
       "2     https://www.krisdika.go.th/librarian/get?sysid...  774606   \n",
       "3     https://www.krisdika.go.th/librarian/get?sysid...  443287   \n",
       "4     https://www.krisdika.go.th/librarian/get?sysid...  570066   \n",
       "...                                                 ...     ...   \n",
       "2210  https://www.krisdika.go.th/librarian/get?sysid...  568883   \n",
       "2211  https://www.krisdika.go.th/librarian/get?sysid...  319040   \n",
       "2212  https://www.krisdika.go.th/librarian/get?sysid...  302303   \n",
       "2213  https://www.krisdika.go.th/librarian/get?sysid...  725393   \n",
       "2214  https://www.krisdika.go.th/librarian/get?sysid...  573055   \n",
       "\n",
       "                    law_group       law_type  \n",
       "0                    กษัตริย์    พระราชกำหนด  \n",
       "1                    กษัตริย์  พระราชบัญญัติ  \n",
       "2                    กษัตริย์     รัฐธรรมนูญ  \n",
       "3                    กษัตริย์   ประมวลกฎหมาย  \n",
       "4                    กษัตริย์   ประมวลกฎหมาย  \n",
       "...                       ...            ...  \n",
       "2210  โทรคมนาคม และการสื่อสาร  พระราชบัญญัติ  \n",
       "2211  โทรคมนาคม และการสื่อสาร  พระราชบัญญัติ  \n",
       "2212  โทรคมนาคม และการสื่อสาร  พระราชบัญญัติ  \n",
       "2213  โทรคมนาคม และการสื่อสาร  พระราชบัญญัติ  \n",
       "2214  โทรคมนาคม และการสื่อสาร  พระราชบัญญัติ  \n",
       "\n",
       "[2215 rows x 5 columns]"
      ]
     },
     "execution_count": 324,
     "metadata": {},
     "output_type": "execute_result"
    }
   ],
   "source": [
    "# law_url_df.to_csv('data/v0.3/law_url_df.csv',index=False)\n",
    "law_url_df = pd.read_csv('data/v0.3/law_url_df.csv')\n",
    "law_url_df"
   ]
  },
  {
   "cell_type": "code",
   "execution_count": 276,
   "metadata": {},
   "outputs": [
    {
     "data": {
      "text/plain": [
       "2215"
      ]
     },
     "execution_count": 276,
     "metadata": {},
     "output_type": "execute_result"
    }
   ],
   "source": [
    "law_groups.nb_laws.sum()"
   ]
  },
  {
   "cell_type": "code",
   "execution_count": 293,
   "metadata": {},
   "outputs": [
    {
     "data": {
      "text/html": [
       "<div>\n",
       "<style scoped>\n",
       "    .dataframe tbody tr th:only-of-type {\n",
       "        vertical-align: middle;\n",
       "    }\n",
       "\n",
       "    .dataframe tbody tr th {\n",
       "        vertical-align: top;\n",
       "    }\n",
       "\n",
       "    .dataframe thead th {\n",
       "        text-align: right;\n",
       "    }\n",
       "</style>\n",
       "<table border=\"1\" class=\"dataframe\">\n",
       "  <thead>\n",
       "    <tr style=\"text-align: right;\">\n",
       "      <th></th>\n",
       "      <th>sysid</th>\n",
       "      <th>title</th>\n",
       "      <th>txt</th>\n",
       "    </tr>\n",
       "  </thead>\n",
       "  <tbody>\n",
       "    <tr>\n",
       "      <th>0</th>\n",
       "      <td>726890</td>\n",
       "      <td>กฎบัตรสหประชาชาติ ซึ่งรับตกลงกัน ณ เมืองซานฟาน...</td>\n",
       "      <td>\\n\\n\\n\\n\\n\\n\\n\\n\\nกฎบัตรสหประชาชาติ\\n\\n\\n\\n\\n\\...</td>\n",
       "    </tr>\n",
       "    <tr>\n",
       "      <th>1</th>\n",
       "      <td>301085</td>\n",
       "      <td>กฎบัตรสหประชาชาติ ค.ศ. 1945</td>\n",
       "      <td>\\n\\n\\n\\n\\n\\n\\n\\n\\n \\n\\n\\n\\n\\n\\n\\n \\n \\n \\n \\n ...</td>\n",
       "    </tr>\n",
       "    <tr>\n",
       "      <th>2</th>\n",
       "      <td>740727</td>\n",
       "      <td>ประกาศกระทรวงมหาดไทย เรื่อง การออกหนังสือผ่านแ...</td>\n",
       "      <td>\\n\\n\\n\\n\\n\\n\\n\\n\\nประกาศกระทรวงมหาดไทย\\n\\n\\n\\n...</td>\n",
       "    </tr>\n",
       "    <tr>\n",
       "      <th>3</th>\n",
       "      <td>497860</td>\n",
       "      <td>ประกาศการมีผลใช้บังคับของความตกลงระหว่างรัฐบาล...</td>\n",
       "      <td>\\r\\n\\r\\n\\r\\n\\r\\n\\r\\n\\r\\n\\r\\n\\r\\n\\r\\nประกาศ\\r\\n...</td>\n",
       "    </tr>\n",
       "    <tr>\n",
       "      <th>4</th>\n",
       "      <td>490191</td>\n",
       "      <td>ประกาศ การมีผลใช้บังคับของความตกลง ระหว่าง รัฐ...</td>\n",
       "      <td>\\n\\n\\n\\n\\n\\n\\n\\n\\nประกาศ\\n\\n\\n\\n\\n\\n\\nประกาศ\\n...</td>\n",
       "    </tr>\n",
       "    <tr>\n",
       "      <th>...</th>\n",
       "      <td>...</td>\n",
       "      <td>...</td>\n",
       "      <td>...</td>\n",
       "    </tr>\n",
       "    <tr>\n",
       "      <th>42749</th>\n",
       "      <td>771111</td>\n",
       "      <td>ข้อบัญญัติองค์การบริหารส่วนตำบลนิลเพชร เรื่อง ...</td>\n",
       "      <td>\\n\\n\\n\\n\\n\\n\\n\\n\\nข้อบัญญัติองค์การบริหารส่วนต...</td>\n",
       "    </tr>\n",
       "    <tr>\n",
       "      <th>42750</th>\n",
       "      <td>771127</td>\n",
       "      <td>ข้อบัญญัติองค์การบริหารส่วนตำบลนิลเพชร เรื่อง ...</td>\n",
       "      <td>\\n\\n\\n\\n\\n\\n\\n\\n\\nข้อบัญญัติองค์การบริหารส่วนต...</td>\n",
       "    </tr>\n",
       "    <tr>\n",
       "      <th>42751</th>\n",
       "      <td>771129</td>\n",
       "      <td>ข้อบัญญัติองค์การบริหารส่วนตำบลนิลเพชร เรื่อง ...</td>\n",
       "      <td>\\n\\n\\n\\n\\n\\n\\n\\n\\nข้อบัญญัติองค์การบริหารส่วนต...</td>\n",
       "    </tr>\n",
       "    <tr>\n",
       "      <th>42752</th>\n",
       "      <td>771099</td>\n",
       "      <td>ข้อบัญญัติองค์การบริหารส่วนตำบลสว่างแดนดิน เรื...</td>\n",
       "      <td>\\n\\n\\n\\n\\n\\n\\n\\n\\nข้อบัญญัติองค์การบริหารส่วนต...</td>\n",
       "    </tr>\n",
       "    <tr>\n",
       "      <th>42753</th>\n",
       "      <td>771109</td>\n",
       "      <td>ข้อบัญญัติองค์การบริหารส่วนตำบลฉลอง เรื่อง กิจ...</td>\n",
       "      <td>\\n\\n\\n\\n\\n\\n\\n\\n\\nข้อบัญญัติองค์การบริหารส่วนต...</td>\n",
       "    </tr>\n",
       "  </tbody>\n",
       "</table>\n",
       "<p>42754 rows × 3 columns</p>\n",
       "</div>"
      ],
      "text/plain": [
       "        sysid                                              title  \\\n",
       "0      726890  กฎบัตรสหประชาชาติ ซึ่งรับตกลงกัน ณ เมืองซานฟาน...   \n",
       "1      301085                        กฎบัตรสหประชาชาติ ค.ศ. 1945   \n",
       "2      740727  ประกาศกระทรวงมหาดไทย เรื่อง การออกหนังสือผ่านแ...   \n",
       "3      497860  ประกาศการมีผลใช้บังคับของความตกลงระหว่างรัฐบาล...   \n",
       "4      490191  ประกาศ การมีผลใช้บังคับของความตกลง ระหว่าง รัฐ...   \n",
       "...       ...                                                ...   \n",
       "42749  771111  ข้อบัญญัติองค์การบริหารส่วนตำบลนิลเพชร เรื่อง ...   \n",
       "42750  771127  ข้อบัญญัติองค์การบริหารส่วนตำบลนิลเพชร เรื่อง ...   \n",
       "42751  771129  ข้อบัญญัติองค์การบริหารส่วนตำบลนิลเพชร เรื่อง ...   \n",
       "42752  771099  ข้อบัญญัติองค์การบริหารส่วนตำบลสว่างแดนดิน เรื...   \n",
       "42753  771109  ข้อบัญญัติองค์การบริหารส่วนตำบลฉลอง เรื่อง กิจ...   \n",
       "\n",
       "                                                     txt  \n",
       "0      \\n\\n\\n\\n\\n\\n\\n\\n\\nกฎบัตรสหประชาชาติ\\n\\n\\n\\n\\n\\...  \n",
       "1      \\n\\n\\n\\n\\n\\n\\n\\n\\n \\n\\n\\n\\n\\n\\n\\n \\n \\n \\n \\n ...  \n",
       "2      \\n\\n\\n\\n\\n\\n\\n\\n\\nประกาศกระทรวงมหาดไทย\\n\\n\\n\\n...  \n",
       "3      \\r\\n\\r\\n\\r\\n\\r\\n\\r\\n\\r\\n\\r\\n\\r\\n\\r\\nประกาศ\\r\\n...  \n",
       "4      \\n\\n\\n\\n\\n\\n\\n\\n\\nประกาศ\\n\\n\\n\\n\\n\\n\\nประกาศ\\n...  \n",
       "...                                                  ...  \n",
       "42749  \\n\\n\\n\\n\\n\\n\\n\\n\\nข้อบัญญัติองค์การบริหารส่วนต...  \n",
       "42750  \\n\\n\\n\\n\\n\\n\\n\\n\\nข้อบัญญัติองค์การบริหารส่วนต...  \n",
       "42751  \\n\\n\\n\\n\\n\\n\\n\\n\\nข้อบัญญัติองค์การบริหารส่วนต...  \n",
       "42752  \\n\\n\\n\\n\\n\\n\\n\\n\\nข้อบัญญัติองค์การบริหารส่วนต...  \n",
       "42753  \\n\\n\\n\\n\\n\\n\\n\\n\\nข้อบัญญัติองค์การบริหารส่วนต...  \n",
       "\n",
       "[42754 rows x 3 columns]"
      ]
     },
     "execution_count": 293,
     "metadata": {},
     "output_type": "execute_result"
    }
   ],
   "source": [
    "v02 = pd.read_csv('data/v0.2/law.csv')\n",
    "v02 = v02[v02.sysid!='None'].reset_index(drop=True)\n",
    "v02['sysid'] = v02.sysid.map(lambda x: int(x)) \n",
    "v02"
   ]
  },
  {
   "cell_type": "code",
   "execution_count": 295,
   "metadata": {},
   "outputs": [
    {
     "data": {
      "text/plain": [
       "1312"
      ]
     },
     "execution_count": 295,
     "metadata": {},
     "output_type": "execute_result"
    }
   ],
   "source": [
    "law_url_df.merge(v02,how='left').txt.isna().sum()"
   ]
  },
  {
   "cell_type": "code",
   "execution_count": 297,
   "metadata": {},
   "outputs": [
    {
     "data": {
      "text/html": [
       "<div>\n",
       "<style scoped>\n",
       "    .dataframe tbody tr th:only-of-type {\n",
       "        vertical-align: middle;\n",
       "    }\n",
       "\n",
       "    .dataframe tbody tr th {\n",
       "        vertical-align: top;\n",
       "    }\n",
       "\n",
       "    .dataframe thead th {\n",
       "        text-align: right;\n",
       "    }\n",
       "</style>\n",
       "<table border=\"1\" class=\"dataframe\">\n",
       "  <thead>\n",
       "    <tr style=\"text-align: right;\">\n",
       "      <th></th>\n",
       "      <th>sysid</th>\n",
       "      <th>title</th>\n",
       "      <th>txt</th>\n",
       "    </tr>\n",
       "  </thead>\n",
       "  <tbody>\n",
       "    <tr>\n",
       "      <th>0</th>\n",
       "      <td>726890</td>\n",
       "      <td>กฎบัตรสหประชาชาติ ซึ่งรับตกลงกัน ณ เมืองซานฟาน...</td>\n",
       "      <td>\\n\\n\\n\\n\\n\\n\\n\\n\\nกฎบัตรสหประชาชาติ\\n\\n\\n\\n\\n\\...</td>\n",
       "    </tr>\n",
       "    <tr>\n",
       "      <th>1</th>\n",
       "      <td>301085</td>\n",
       "      <td>กฎบัตรสหประชาชาติ ค.ศ. 1945</td>\n",
       "      <td>\\n\\n\\n\\n\\n\\n\\n\\n\\n \\n\\n\\n\\n\\n\\n\\n \\n \\n \\n \\n ...</td>\n",
       "    </tr>\n",
       "    <tr>\n",
       "      <th>2</th>\n",
       "      <td>740727</td>\n",
       "      <td>ประกาศกระทรวงมหาดไทย เรื่อง การออกหนังสือผ่านแ...</td>\n",
       "      <td>\\n\\n\\n\\n\\n\\n\\n\\n\\nประกาศกระทรวงมหาดไทย\\n\\n\\n\\n...</td>\n",
       "    </tr>\n",
       "    <tr>\n",
       "      <th>3</th>\n",
       "      <td>497860</td>\n",
       "      <td>ประกาศการมีผลใช้บังคับของความตกลงระหว่างรัฐบาล...</td>\n",
       "      <td>\\r\\n\\r\\n\\r\\n\\r\\n\\r\\n\\r\\n\\r\\n\\r\\n\\r\\nประกาศ\\r\\n...</td>\n",
       "    </tr>\n",
       "    <tr>\n",
       "      <th>4</th>\n",
       "      <td>490191</td>\n",
       "      <td>ประกาศ การมีผลใช้บังคับของความตกลง ระหว่าง รัฐ...</td>\n",
       "      <td>\\n\\n\\n\\n\\n\\n\\n\\n\\nประกาศ\\n\\n\\n\\n\\n\\n\\nประกาศ\\n...</td>\n",
       "    </tr>\n",
       "    <tr>\n",
       "      <th>...</th>\n",
       "      <td>...</td>\n",
       "      <td>...</td>\n",
       "      <td>...</td>\n",
       "    </tr>\n",
       "    <tr>\n",
       "      <th>42749</th>\n",
       "      <td>771111</td>\n",
       "      <td>ข้อบัญญัติองค์การบริหารส่วนตำบลนิลเพชร เรื่อง ...</td>\n",
       "      <td>\\n\\n\\n\\n\\n\\n\\n\\n\\nข้อบัญญัติองค์การบริหารส่วนต...</td>\n",
       "    </tr>\n",
       "    <tr>\n",
       "      <th>42750</th>\n",
       "      <td>771127</td>\n",
       "      <td>ข้อบัญญัติองค์การบริหารส่วนตำบลนิลเพชร เรื่อง ...</td>\n",
       "      <td>\\n\\n\\n\\n\\n\\n\\n\\n\\nข้อบัญญัติองค์การบริหารส่วนต...</td>\n",
       "    </tr>\n",
       "    <tr>\n",
       "      <th>42751</th>\n",
       "      <td>771129</td>\n",
       "      <td>ข้อบัญญัติองค์การบริหารส่วนตำบลนิลเพชร เรื่อง ...</td>\n",
       "      <td>\\n\\n\\n\\n\\n\\n\\n\\n\\nข้อบัญญัติองค์การบริหารส่วนต...</td>\n",
       "    </tr>\n",
       "    <tr>\n",
       "      <th>42752</th>\n",
       "      <td>771099</td>\n",
       "      <td>ข้อบัญญัติองค์การบริหารส่วนตำบลสว่างแดนดิน เรื...</td>\n",
       "      <td>\\n\\n\\n\\n\\n\\n\\n\\n\\nข้อบัญญัติองค์การบริหารส่วนต...</td>\n",
       "    </tr>\n",
       "    <tr>\n",
       "      <th>42753</th>\n",
       "      <td>771109</td>\n",
       "      <td>ข้อบัญญัติองค์การบริหารส่วนตำบลฉลอง เรื่อง กิจ...</td>\n",
       "      <td>\\n\\n\\n\\n\\n\\n\\n\\n\\nข้อบัญญัติองค์การบริหารส่วนต...</td>\n",
       "    </tr>\n",
       "  </tbody>\n",
       "</table>\n",
       "<p>42754 rows × 3 columns</p>\n",
       "</div>"
      ],
      "text/plain": [
       "        sysid                                              title  \\\n",
       "0      726890  กฎบัตรสหประชาชาติ ซึ่งรับตกลงกัน ณ เมืองซานฟาน...   \n",
       "1      301085                        กฎบัตรสหประชาชาติ ค.ศ. 1945   \n",
       "2      740727  ประกาศกระทรวงมหาดไทย เรื่อง การออกหนังสือผ่านแ...   \n",
       "3      497860  ประกาศการมีผลใช้บังคับของความตกลงระหว่างรัฐบาล...   \n",
       "4      490191  ประกาศ การมีผลใช้บังคับของความตกลง ระหว่าง รัฐ...   \n",
       "...       ...                                                ...   \n",
       "42749  771111  ข้อบัญญัติองค์การบริหารส่วนตำบลนิลเพชร เรื่อง ...   \n",
       "42750  771127  ข้อบัญญัติองค์การบริหารส่วนตำบลนิลเพชร เรื่อง ...   \n",
       "42751  771129  ข้อบัญญัติองค์การบริหารส่วนตำบลนิลเพชร เรื่อง ...   \n",
       "42752  771099  ข้อบัญญัติองค์การบริหารส่วนตำบลสว่างแดนดิน เรื...   \n",
       "42753  771109  ข้อบัญญัติองค์การบริหารส่วนตำบลฉลอง เรื่อง กิจ...   \n",
       "\n",
       "                                                     txt  \n",
       "0      \\n\\n\\n\\n\\n\\n\\n\\n\\nกฎบัตรสหประชาชาติ\\n\\n\\n\\n\\n\\...  \n",
       "1      \\n\\n\\n\\n\\n\\n\\n\\n\\n \\n\\n\\n\\n\\n\\n\\n \\n \\n \\n \\n ...  \n",
       "2      \\n\\n\\n\\n\\n\\n\\n\\n\\nประกาศกระทรวงมหาดไทย\\n\\n\\n\\n...  \n",
       "3      \\r\\n\\r\\n\\r\\n\\r\\n\\r\\n\\r\\n\\r\\n\\r\\n\\r\\nประกาศ\\r\\n...  \n",
       "4      \\n\\n\\n\\n\\n\\n\\n\\n\\nประกาศ\\n\\n\\n\\n\\n\\n\\nประกาศ\\n...  \n",
       "...                                                  ...  \n",
       "42749  \\n\\n\\n\\n\\n\\n\\n\\n\\nข้อบัญญัติองค์การบริหารส่วนต...  \n",
       "42750  \\n\\n\\n\\n\\n\\n\\n\\n\\nข้อบัญญัติองค์การบริหารส่วนต...  \n",
       "42751  \\n\\n\\n\\n\\n\\n\\n\\n\\nข้อบัญญัติองค์การบริหารส่วนต...  \n",
       "42752  \\n\\n\\n\\n\\n\\n\\n\\n\\nข้อบัญญัติองค์การบริหารส่วนต...  \n",
       "42753  \\n\\n\\n\\n\\n\\n\\n\\n\\nข้อบัญญัติองค์การบริหารส่วนต...  \n",
       "\n",
       "[42754 rows x 3 columns]"
      ]
     },
     "execution_count": 297,
     "metadata": {},
     "output_type": "execute_result"
    }
   ],
   "source": [
    "v02"
   ]
  },
  {
   "cell_type": "code",
   "execution_count": 300,
   "metadata": {},
   "outputs": [
    {
     "data": {
      "text/plain": [
       "774606    32\n",
       "567410    15\n",
       "443287    13\n",
       "617709    11\n",
       "564433     9\n",
       "          ..\n",
       "701147     1\n",
       "701143     1\n",
       "701141     1\n",
       "803507     1\n",
       "305153     1\n",
       "Name: sysid, Length: 868, dtype: int64"
      ]
     },
     "execution_count": 300,
     "metadata": {},
     "output_type": "execute_result"
    }
   ],
   "source": [
    "law_url_df.sysid.value_counts()"
   ]
  },
  {
   "cell_type": "code",
   "execution_count": 321,
   "metadata": {},
   "outputs": [],
   "source": []
  },
  {
   "cell_type": "code",
   "execution_count": 322,
   "metadata": {},
   "outputs": [
    {
     "data": {
      "text/plain": [
       "พระราชบัญญัติ    2012\n",
       "พระราชกำหนด        81\n",
       "ประมวลกฎหมาย       54\n",
       "รัฐธรรมนูญ         32\n",
       "ประกาศ             21\n",
       "ประมวลรัษฎากร      11\n",
       "คำสั่ง              3\n",
       "พระธรรมนูญ          1\n",
       "Name: law_type, dtype: int64"
      ]
     },
     "execution_count": 322,
     "metadata": {},
     "output_type": "execute_result"
    }
   ],
   "source": []
  },
  {
   "cell_type": "code",
   "execution_count": null,
   "metadata": {},
   "outputs": [],
   "source": []
  }
 ],
 "metadata": {
  "kernelspec": {
   "display_name": "Python 3",
   "language": "python",
   "name": "python3"
  },
  "language_info": {
   "codemirror_mode": {
    "name": "ipython",
    "version": 3
   },
   "file_extension": ".py",
   "mimetype": "text/x-python",
   "name": "python",
   "nbconvert_exporter": "python",
   "pygments_lexer": "ipython3",
   "version": "3.6.9"
  }
 },
 "nbformat": 4,
 "nbformat_minor": 2
}
